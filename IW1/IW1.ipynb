{
  "cells": [
    {
      "cell_type": "code",
      "execution_count": 6,
      "metadata": {},
      "outputs": [],
      "source": [
        "from sklearn.datasets import make_classification, make_moons\n",
        "from sklearn.model_selection import train_test_split\n",
        "from ydata_profiling import ProfileReport\n",
        "\n",
        "import plots as pl\n",
        "import metrics as met\n",
        "\n",
        "\n",
        "import numpy as np\n",
        "import pandas as pd\n",
        "import matplotlib.pyplot as plt\n",
        "%matplotlib inline"
      ]
    },
    {
      "cell_type": "code",
      "execution_count": 7,
      "metadata": {},
      "outputs": [],
      "source": [
        "def load_dataset(filename, data_columns, target_column):\n",
        "    df = pd.read_csv(filename)\n",
        "    X, y = df[data_columns].values, df[target_column].values\n",
        "    return X, y.reshape(-1, 1)"
      ]
    },
    {
      "cell_type": "code",
      "execution_count": 8,
      "metadata": {},
      "outputs": [],
      "source": [
        "class CustomRegression:\n",
        "    def __init__(self, standardize=True, \n",
        "                 learning_rate=0.01, \n",
        "                 max_iter=1000,\n",
        "                 tol=1e-4,\n",
        "                 verbose=False):\n",
        "        self.standardize = standardize\n",
        "        self.learning_rate = learning_rate\n",
        "        self.max_iter = max_iter\n",
        "        self.tol = tol\n",
        "        self.verbose = verbose\n",
        "\n",
        "    def normalize(self, X):\n",
        "        mean = X.mean()\n",
        "        std = X.std()\n",
        "        X_new = (X - mean) / std\n",
        "        return X_new, mean, std\n",
        "    \n",
        "    def linear(self, z):\n",
        "        return z\n",
        "    \n",
        "    def hypothesis(self, X, theta):\n",
        "        z = np.dot(X, theta)\n",
        "        return self.linear(z)\n",
        "\n",
        "    def cost_function(self, X, y, theta):\n",
        "        m = X.shape[0]\n",
        "        h = self.hypothesis(X, theta)\n",
        "        cost = (1 / (2 * m)) * np.sum(np.square(h - y))\n",
        "        return cost\n",
        "\n",
        "    def gradient(self, X, y, theta):\n",
        "        m = X.shape[0]\n",
        "        grad = 1.0 / m * np.sum((self.hypothesis(X, theta) - y) * X)\n",
        "        return grad\n",
        "\n",
        "    def gradient_descent(self, X, y, theta):\n",
        "        costs = []\n",
        "        J = self.cost_function(X, y, theta)\n",
        "        costs.append(J)\n",
        "\n",
        "        if self.verbose:\n",
        "            print(f\"Iteration 0 Cost: {J}\")\n",
        "\n",
        "        for i in range(1, self.max_iter + 1):\n",
        "            grad = self.gradient(X, y, theta)\n",
        "            theta = theta - self.learning_rate * grad\n",
        "            cost = self.cost_function(X, y, theta)\n",
        "            \n",
        "            costs.append(cost)\n",
        "\n",
        "            if i % 100 == 0 and self.verbose:\n",
        "                print(f\"Iteration {i} Cost: {cost}\")\n",
        "\n",
        "            if np.abs(costs[i] - costs[i - 1]) < self.tol:\n",
        "                print(f\"Converged at iteration {i}\")\n",
        "                break\n",
        "\n",
        "        return theta, costs\n",
        "    \n",
        "    def fit(self, X, y):\n",
        "        X_new = X.copy()\n",
        "        if self.standardize:\n",
        "            X_new, self.mean, self.std = self.normalize(X_new)\n",
        "\n",
        "        self.theta = np.zeros((X_new.shape[1], 1))\n",
        "        self.theta, self.costs = self.gradient_descent(X_new, y, self.theta)\n",
        "\n",
        "    def predict(self, X):\n",
        "        X_new = X.copy()\n",
        "        if self.standardize:\n",
        "            X_new, self.mean, self.std = self.normalize(X_new)\n",
        "\n",
        "        y_pred = np.where(self.hypothesis(X_new, self.theta) > 0.5, 1, 0)\n",
        "        return y_pred\n",
        "\n",
        "    def predict_proba(self, X):\n",
        "        X_new = X.copy()\n",
        "        if self.standardize:\n",
        "            X_new, self.mean, self.std = self.normalize(X_new)\n",
        "\n",
        "        h = self.hypothesis(X_new, self.theta)\n",
        "        return h"
      ]
    },
    {
      "cell_type": "code",
      "execution_count": 9,
      "metadata": {},
      "outputs": [
        {
          "data": {
            "text/plain": [
              "array([[19, 0, 27.9, 0, 'yes', 'southwest'],\n",
              "       [18, 1, 33.77, 1, 'no', 'southeast'],\n",
              "       [28, 1, 33.0, 3, 'no', 'southeast'],\n",
              "       ...,\n",
              "       [18, 0, 36.85, 0, 'no', 'southeast'],\n",
              "       [21, 0, 25.8, 0, 'no', 'southwest'],\n",
              "       [61, 0, 29.07, 0, 'yes', 'northwest']], dtype=object)"
            ]
          },
          "execution_count": 9,
          "metadata": {},
          "output_type": "execute_result"
        }
      ],
      "source": [
        "# Load data\n",
        "data_columns = [\"age\", \"sex\", \"bmi\", \"children\", \"smoker\", \"region\"]\n",
        "target_column = \"charges\"\n",
        "X, y = load_dataset(r'C:\\Users\\Артем\\vscode_source\\MLIntro\\LinearRegression\\IW1\\insurance.csv', data_columns, target_column)\n",
        "\n",
        "# Map data\n",
        "X[:, 1] = np.where(X[:, 1] == 'female', 0, 1)\n",
        "X"
      ]
    },
    {
      "cell_type": "code",
      "execution_count": 14,
      "metadata": {},
      "outputs": [
        {
          "ename": "ModuleNotFoundError",
          "evalue": "No module named 'ipywidgets'",
          "output_type": "error",
          "traceback": [
            "\u001b[1;31m---------------------------------------------------------------------------\u001b[0m",
            "\u001b[1;31mModuleNotFoundError\u001b[0m                       Traceback (most recent call last)",
            "Cell \u001b[1;32mIn[14], line 11\u001b[0m\n\u001b[0;32m      2\u001b[0m dataframe_X \u001b[38;5;241m=\u001b[39m pd\u001b[38;5;241m.\u001b[39mDataFrame(X)\n\u001b[0;32m      3\u001b[0m report \u001b[38;5;241m=\u001b[39m ProfileReport(dataframe_X, title\u001b[38;5;241m=\u001b[39m\u001b[38;5;124m'\u001b[39m\u001b[38;5;124mData Features\u001b[39m\u001b[38;5;124m'\u001b[39m, correlations\u001b[38;5;241m=\u001b[39m{\n\u001b[0;32m      4\u001b[0m             \u001b[38;5;124m\"\u001b[39m\u001b[38;5;124mauto\u001b[39m\u001b[38;5;124m\"\u001b[39m: {\u001b[38;5;124m\"\u001b[39m\u001b[38;5;124mcalculate\u001b[39m\u001b[38;5;124m\"\u001b[39m: \u001b[38;5;28;01mTrue\u001b[39;00m},\n\u001b[0;32m      5\u001b[0m             \u001b[38;5;124m\"\u001b[39m\u001b[38;5;124mpearson\u001b[39m\u001b[38;5;124m\"\u001b[39m: {\u001b[38;5;124m\"\u001b[39m\u001b[38;5;124mcalculate\u001b[39m\u001b[38;5;124m\"\u001b[39m: \u001b[38;5;28;01mTrue\u001b[39;00m},\n\u001b[1;32m   (...)\u001b[0m\n\u001b[0;32m      9\u001b[0m             \u001b[38;5;124m\"\u001b[39m\u001b[38;5;124mcramers\u001b[39m\u001b[38;5;124m\"\u001b[39m: {\u001b[38;5;124m\"\u001b[39m\u001b[38;5;124mcalculate\u001b[39m\u001b[38;5;124m\"\u001b[39m: \u001b[38;5;28;01mTrue\u001b[39;00m},\n\u001b[0;32m     10\u001b[0m         })\n\u001b[1;32m---> 11\u001b[0m \u001b[43mreport\u001b[49m\u001b[38;5;241;43m.\u001b[39;49m\u001b[43mto_notebook_iframe\u001b[49m\u001b[43m(\u001b[49m\u001b[43m)\u001b[49m\n",
            "File \u001b[1;32m~\\AppData\\Local\\Packages\\PythonSoftwareFoundation.Python.3.11_qbz5n2kfra8p0\\LocalCache\\local-packages\\Python311\\site-packages\\ydata_profiling\\profile_report.py:510\u001b[0m, in \u001b[0;36mProfileReport.to_notebook_iframe\u001b[1;34m(self)\u001b[0m\n\u001b[0;32m    499\u001b[0m \u001b[38;5;250m\u001b[39m\u001b[38;5;124;03m\"\"\"Used to output the HTML representation to a Jupyter notebook.\u001b[39;00m\n\u001b[0;32m    500\u001b[0m \u001b[38;5;124;03mWhen config.notebook.iframe.attribute is \"src\", this function creates a temporary HTML file\u001b[39;00m\n\u001b[0;32m    501\u001b[0m \u001b[38;5;124;03min `./tmp/profile_[hash].html` and returns an Iframe pointing to that contents.\u001b[39;00m\n\u001b[1;32m   (...)\u001b[0m\n\u001b[0;32m    506\u001b[0m \u001b[38;5;124;03m    This constructions solves problems with conflicting stylesheets and navigation links.\u001b[39;00m\n\u001b[0;32m    507\u001b[0m \u001b[38;5;124;03m\"\"\"\u001b[39;00m\n\u001b[0;32m    508\u001b[0m \u001b[38;5;28;01mfrom\u001b[39;00m \u001b[38;5;21;01mIPython\u001b[39;00m\u001b[38;5;21;01m.\u001b[39;00m\u001b[38;5;21;01mcore\u001b[39;00m\u001b[38;5;21;01m.\u001b[39;00m\u001b[38;5;21;01mdisplay\u001b[39;00m \u001b[38;5;28;01mimport\u001b[39;00m display\n\u001b[1;32m--> 510\u001b[0m \u001b[38;5;28;01mfrom\u001b[39;00m \u001b[38;5;21;01mydata_profiling\u001b[39;00m\u001b[38;5;21;01m.\u001b[39;00m\u001b[38;5;21;01mreport\u001b[39;00m\u001b[38;5;21;01m.\u001b[39;00m\u001b[38;5;21;01mpresentation\u001b[39;00m\u001b[38;5;21;01m.\u001b[39;00m\u001b[38;5;21;01mflavours\u001b[39;00m\u001b[38;5;21;01m.\u001b[39;00m\u001b[38;5;21;01mwidget\u001b[39;00m\u001b[38;5;21;01m.\u001b[39;00m\u001b[38;5;21;01mnotebook\u001b[39;00m \u001b[38;5;28;01mimport\u001b[39;00m (\n\u001b[0;32m    511\u001b[0m     get_notebook_iframe,\n\u001b[0;32m    512\u001b[0m )\n\u001b[0;32m    514\u001b[0m \u001b[38;5;66;03m# Ignore warning: https://github.com/ipython/ipython/pull/11350/files\u001b[39;00m\n\u001b[0;32m    515\u001b[0m \u001b[38;5;28;01mwith\u001b[39;00m warnings\u001b[38;5;241m.\u001b[39mcatch_warnings():\n",
            "File \u001b[1;32m~\\AppData\\Local\\Packages\\PythonSoftwareFoundation.Python.3.11_qbz5n2kfra8p0\\LocalCache\\local-packages\\Python311\\site-packages\\ydata_profiling\\report\\presentation\\flavours\\widget\\__init__.py:1\u001b[0m\n\u001b[1;32m----> 1\u001b[0m \u001b[38;5;28;01mfrom\u001b[39;00m \u001b[38;5;21;01mydata_profiling\u001b[39;00m\u001b[38;5;21;01m.\u001b[39;00m\u001b[38;5;21;01mreport\u001b[39;00m\u001b[38;5;21;01m.\u001b[39;00m\u001b[38;5;21;01mpresentation\u001b[39;00m\u001b[38;5;21;01m.\u001b[39;00m\u001b[38;5;21;01mflavours\u001b[39;00m\u001b[38;5;21;01m.\u001b[39;00m\u001b[38;5;21;01mwidget\u001b[39;00m\u001b[38;5;21;01m.\u001b[39;00m\u001b[38;5;21;01malerts\u001b[39;00m \u001b[38;5;28;01mimport\u001b[39;00m WidgetAlerts\n\u001b[0;32m      2\u001b[0m \u001b[38;5;28;01mfrom\u001b[39;00m \u001b[38;5;21;01mydata_profiling\u001b[39;00m\u001b[38;5;21;01m.\u001b[39;00m\u001b[38;5;21;01mreport\u001b[39;00m\u001b[38;5;21;01m.\u001b[39;00m\u001b[38;5;21;01mpresentation\u001b[39;00m\u001b[38;5;21;01m.\u001b[39;00m\u001b[38;5;21;01mflavours\u001b[39;00m\u001b[38;5;21;01m.\u001b[39;00m\u001b[38;5;21;01mwidget\u001b[39;00m\u001b[38;5;21;01m.\u001b[39;00m\u001b[38;5;21;01mcollapse\u001b[39;00m \u001b[38;5;28;01mimport\u001b[39;00m WidgetCollapse\n\u001b[0;32m      3\u001b[0m \u001b[38;5;28;01mfrom\u001b[39;00m \u001b[38;5;21;01mydata_profiling\u001b[39;00m\u001b[38;5;21;01m.\u001b[39;00m\u001b[38;5;21;01mreport\u001b[39;00m\u001b[38;5;21;01m.\u001b[39;00m\u001b[38;5;21;01mpresentation\u001b[39;00m\u001b[38;5;21;01m.\u001b[39;00m\u001b[38;5;21;01mflavours\u001b[39;00m\u001b[38;5;21;01m.\u001b[39;00m\u001b[38;5;21;01mwidget\u001b[39;00m\u001b[38;5;21;01m.\u001b[39;00m\u001b[38;5;21;01mcontainer\u001b[39;00m \u001b[38;5;28;01mimport\u001b[39;00m (\n\u001b[0;32m      4\u001b[0m     WidgetContainer,\n\u001b[0;32m      5\u001b[0m )\n",
            "File \u001b[1;32m~\\AppData\\Local\\Packages\\PythonSoftwareFoundation.Python.3.11_qbz5n2kfra8p0\\LocalCache\\local-packages\\Python311\\site-packages\\ydata_profiling\\report\\presentation\\flavours\\widget\\alerts.py:3\u001b[0m\n\u001b[0;32m      1\u001b[0m \u001b[38;5;28;01mfrom\u001b[39;00m \u001b[38;5;21;01mtyping\u001b[39;00m \u001b[38;5;28;01mimport\u001b[39;00m List\n\u001b[1;32m----> 3\u001b[0m \u001b[38;5;28;01mfrom\u001b[39;00m \u001b[38;5;21;01mipywidgets\u001b[39;00m \u001b[38;5;28;01mimport\u001b[39;00m HTML, Button, widgets\n\u001b[0;32m      5\u001b[0m \u001b[38;5;28;01mfrom\u001b[39;00m \u001b[38;5;21;01mydata_profiling\u001b[39;00m\u001b[38;5;21;01m.\u001b[39;00m\u001b[38;5;21;01mreport\u001b[39;00m\u001b[38;5;21;01m.\u001b[39;00m\u001b[38;5;21;01mpresentation\u001b[39;00m\u001b[38;5;21;01m.\u001b[39;00m\u001b[38;5;21;01mcore\u001b[39;00m \u001b[38;5;28;01mimport\u001b[39;00m Alerts\n\u001b[0;32m      6\u001b[0m \u001b[38;5;28;01mfrom\u001b[39;00m \u001b[38;5;21;01mydata_profiling\u001b[39;00m\u001b[38;5;21;01m.\u001b[39;00m\u001b[38;5;21;01mreport\u001b[39;00m\u001b[38;5;21;01m.\u001b[39;00m\u001b[38;5;21;01mpresentation\u001b[39;00m\u001b[38;5;21;01m.\u001b[39;00m\u001b[38;5;21;01mflavours\u001b[39;00m\u001b[38;5;21;01m.\u001b[39;00m\u001b[38;5;21;01mhtml\u001b[39;00m \u001b[38;5;28;01mimport\u001b[39;00m templates\n",
            "\u001b[1;31mModuleNotFoundError\u001b[0m: No module named 'ipywidgets'"
          ]
        }
      ],
      "source": [
        "# EDA\n",
        "dataframe_X = pd.DataFrame(X)\n",
        "report = ProfileReport(dataframe_X, title='Data Features', correlations={\n",
        "            \"auto\": {\"calculate\": True},\n",
        "            \"pearson\": {\"calculate\": True},\n",
        "            \"spearman\": {\"calculate\": True},\n",
        "            \"kendall\": {\"calculate\": True},\n",
        "            \"phi_k\": {\"calculate\": True},\n",
        "            \"cramers\": {\"calculate\": True},\n",
        "        })\n",
        "report.to_notebook_iframe()"
      ]
    },
    {
      "cell_type": "code",
      "execution_count": null,
      "metadata": {},
      "outputs": [],
      "source": [
        "X_train, X_test, y_train, y_test = train_test_split(X, y, test_size=0.2, random_state=42)\n",
        "print(X_train.shape, X_test.shape, y_train.shape, y_test.shape)"
      ]
    },
    {
      "cell_type": "code",
      "execution_count": null,
      "metadata": {},
      "outputs": [],
      "source": [
        "lr = CustomRegression(standardize=True, learning_rate=0.01, max_iter=1000, tol=1e-4, verbose=True)\n",
        "lr.fit(X_train, y_train)\n",
        "y_test_pred = lr.predict(X_test)\n",
        "\n",
        "accuracy, report, confusion = met.evaluate_classification(y_test, y_test_pred)\n",
        "print(f\"Accuracy: \\n{accuracy}\")\n",
        "print(f\"Report: \\n{report}\")\n",
        "print(f\"Confusion: \\n{confusion}\")\n",
        "pl.plot_decision_boundary(lr, X_test, y_test)\n",
        "plt.show()"
      ]
    }
  ],
  "metadata": {
    "anaconda-cloud": {},
    "kernelspec": {
      "display_name": "Python 3",
      "language": "python",
      "name": "python3"
    },
    "language_info": {
      "codemirror_mode": {
        "name": "ipython",
        "version": 3
      },
      "file_extension": ".py",
      "mimetype": "text/x-python",
      "name": "python",
      "nbconvert_exporter": "python",
      "pygments_lexer": "ipython3",
      "version": "3.11.9"
    },
    "nteract": {
      "version": "nteract-front-end@1.0.0"
    },
    "vscode": {
      "interpreter": {
        "hash": "da1350d706778574eb7298bca1bd7718ec03806ad26d0510a11ed17a26830b5f"
      }
    }
  },
  "nbformat": 4,
  "nbformat_minor": 1
}
